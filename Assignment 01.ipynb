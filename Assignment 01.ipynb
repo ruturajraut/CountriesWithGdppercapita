{
 "cells": [
  {
   "cell_type": "markdown",
   "metadata": {},
   "source": [
    "<img src=\"http://cfs22.simplicdn.net/ice9/new_logo.svgz \"/>\n",
    "\n",
    "# Assignment 01: Evaluate the GDP Dataset\n",
    "\n",
    "*The comments/sections provided are your cues to perform the assignment. You don't need to limit yourself to the number of rows/cells provided. You can add additional rows in each section to add more lines of code.*\n",
    "\n",
    "*If at any point in time you need help on solving this assignment, view our demo video to understand the different steps of the code.*\n",
    "\n",
    "**Happy coding!**\n",
    "\n",
    "* * *"
   ]
  },
  {
   "cell_type": "markdown",
   "metadata": {},
   "source": [
    "#### 1: View and add the dataset"
   ]
  },
  {
   "cell_type": "code",
   "execution_count": 1,
   "metadata": {},
   "outputs": [],
   "source": [
    "#Import required library\n",
    "import numpy as np"
   ]
  },
  {
   "cell_type": "code",
   "execution_count": 2,
   "metadata": {},
   "outputs": [],
   "source": [
    "#Manually add the dataset\n",
    "countries = np.array(['Algeria','Angola','Argentina','Australia','Austria','Bahamas','Bangladesh','Belarus','Belgium','Bhutan','Brazil',\n",
    "                      'Bulgaria','Cambodia','Cameroon','Chile','China','Colombia','Cyprus','Denmark','El Salvador','Estonia','Ethiopia',\n",
    "                      'Fiji','Finland','France','Georgia','Ghana','Grenada','Guinea','Haiti','Honduras',\n",
    "                      'Hungary','India','Indonesia','Ireland','Italy','Japan','Kenya', 'South Korea','Liberia','Malaysia','Mexico', \n",
    "                      'Morocco','Nepal','New Zealand','Norway','Pakistan', 'Peru','Qatar','Russia','Singapore','South Africa','Spain',\n",
    "                      'Sweden','Switzerland','Thailand', 'United Arab Emirates','United Kingdom','United States','Uruguay',\n",
    "                      'Venezuela','Vietnam','Zimbabwe'])\n",
    "\n",
    "gdp_per_capita = np.array([2255.225482,629.9553062,11601.63022,25306.82494,27266.40335,19466.99052,588.3691778,2890.345675,\n",
    "                           24733.62696,1445.760002,4803.398244,2618.876037,590.4521124,665.7982328,7122.938458,2639.54156,\n",
    "                           3362.4656,15378.16704,30860.12808,2579.115607,6525.541272,229.6769525,2242.689259,27570.4852,\n",
    "                           23016.84778,1334.646773,402.6953275,6047.200797,394.1156638,385.5793827,1414.072488,5745.981529,\n",
    "                           837.7464011,1206.991065,27715.52837,18937.24998,39578.07441,478.2194906,16684.21278,279.2204061,\n",
    "                           5345.213415,6288.25324,1908.304416,274.8728621,14646.42094,40034.85063,672.1547506,3359.517402,\n",
    "                           36152.66676,3054.727742,33529.83052,3825.093781,15428.32098,33630.24604,39170.41371,2699.123242,\n",
    "                           21058.43643,28272.40661,37691.02733,9581.05659,5671.912202,757.4009286,347.7456605])"
   ]
  },
  {
   "cell_type": "markdown",
   "metadata": {
    "collapsed": true
   },
   "source": [
    "#### 2: Find and print the name of the country with the highest GDP"
   ]
  },
  {
   "cell_type": "code",
   "execution_count": 3,
   "metadata": {},
   "outputs": [],
   "source": [
    "#Use the argmax() method to find the highest GDP\n",
    "max_gdp_per_capita = gdp_per_capita.argmax()"
   ]
  },
  {
   "cell_type": "code",
   "execution_count": 5,
   "metadata": {},
   "outputs": [
    {
     "data": {
      "text/plain": [
       "'Norway'"
      ]
     },
     "execution_count": 5,
     "metadata": {},
     "output_type": "execute_result"
    }
   ],
   "source": [
    "#Print the name of the country\n",
    "country_with_max_gdp_per_capita = countries[max_gdp_per_capita]\n",
    "country_with_max_gdp_per_capita"
   ]
  },
  {
   "cell_type": "markdown",
   "metadata": {},
   "source": [
    "#### 3: Find and print the name of the country with the lowest GDP"
   ]
  },
  {
   "cell_type": "code",
   "execution_count": 6,
   "metadata": {},
   "outputs": [],
   "source": [
    "#Use the argmin() method to find the lowest GDP\n",
    "min_gdp_per_capita = gdp_per_capita.argmin()"
   ]
  },
  {
   "cell_type": "code",
   "execution_count": 7,
   "metadata": {},
   "outputs": [
    {
     "data": {
      "text/plain": [
       "'Ethiopia'"
      ]
     },
     "execution_count": 7,
     "metadata": {},
     "output_type": "execute_result"
    }
   ],
   "source": [
    "#Print the name of the country\n",
    "country_with_min_gdp_per_capita = countries[min_gdp_per_capita]\n",
    "country_with_min_gdp_per_capita"
   ]
  },
  {
   "cell_type": "markdown",
   "metadata": {},
   "source": [
    "#### 4: Print out text ('evaluating country') and input value ('country name') iteratively"
   ]
  },
  {
   "cell_type": "code",
   "execution_count": 11,
   "metadata": {},
   "outputs": [
    {
     "name": "stdout",
     "output_type": "stream",
     "text": [
      "Country= Algeria\n",
      "Country= Angola\n",
      "Country= Argentina\n",
      "Country= Australia\n",
      "Country= Austria\n",
      "Country= Bahamas\n",
      "Country= Bangladesh\n",
      "Country= Belarus\n",
      "Country= Belgium\n",
      "Country= Bhutan\n",
      "Country= Brazil\n",
      "Country= Bulgaria\n",
      "Country= Cambodia\n",
      "Country= Cameroon\n",
      "Country= Chile\n",
      "Country= China\n",
      "Country= Colombia\n",
      "Country= Cyprus\n",
      "Country= Denmark\n",
      "Country= El Salvador\n",
      "Country= Estonia\n",
      "Country= Ethiopia\n",
      "Country= Fiji\n",
      "Country= Finland\n",
      "Country= France\n",
      "Country= Georgia\n",
      "Country= Ghana\n",
      "Country= Grenada\n",
      "Country= Guinea\n",
      "Country= Haiti\n",
      "Country= Honduras\n",
      "Country= Hungary\n",
      "Country= India\n",
      "Country= Indonesia\n",
      "Country= Ireland\n",
      "Country= Italy\n",
      "Country= Japan\n",
      "Country= Kenya\n",
      "Country= South Korea\n",
      "Country= Liberia\n",
      "Country= Malaysia\n",
      "Country= Mexico\n",
      "Country= Morocco\n",
      "Country= Nepal\n",
      "Country= New Zealand\n",
      "Country= Norway\n",
      "Country= Pakistan\n",
      "Country= Peru\n",
      "Country= Qatar\n",
      "Country= Russia\n",
      "Country= Singapore\n",
      "Country= South Africa\n",
      "Country= Spain\n",
      "Country= Sweden\n",
      "Country= Switzerland\n",
      "Country= Thailand\n",
      "Country= United Arab Emirates\n",
      "Country= United Kingdom\n",
      "Country= United States\n",
      "Country= Uruguay\n",
      "Country= Venezuela\n",
      "Country= Vietnam\n",
      "Country= Zimbabwe\n"
     ]
    }
   ],
   "source": [
    "#Use a for loop to print the required output\n",
    "for country in countries:\n",
    "    print('Country= {}'.format(country))"
   ]
  },
  {
   "cell_type": "markdown",
   "metadata": {},
   "source": [
    "#### 5: Print out the entire list of the countries with their GDPs"
   ]
  },
  {
   "cell_type": "code",
   "execution_count": 10,
   "metadata": {},
   "outputs": [
    {
     "name": "stdout",
     "output_type": "stream",
     "text": [
      "Country Algeria and its GDP per capita is 2255.225482\n",
      "Country Angola and its GDP per capita is 629.9553062\n",
      "Country Argentina and its GDP per capita is 11601.63022\n",
      "Country Australia and its GDP per capita is 25306.82494\n",
      "Country Austria and its GDP per capita is 27266.40335\n",
      "Country Bahamas and its GDP per capita is 19466.99052\n",
      "Country Bangladesh and its GDP per capita is 588.3691778\n",
      "Country Belarus and its GDP per capita is 2890.345675\n",
      "Country Belgium and its GDP per capita is 24733.62696\n",
      "Country Bhutan and its GDP per capita is 1445.760002\n",
      "Country Brazil and its GDP per capita is 4803.398244\n",
      "Country Bulgaria and its GDP per capita is 2618.876037\n",
      "Country Cambodia and its GDP per capita is 590.4521124\n",
      "Country Cameroon and its GDP per capita is 665.7982328\n",
      "Country Chile and its GDP per capita is 7122.938458\n",
      "Country China and its GDP per capita is 2639.54156\n",
      "Country Colombia and its GDP per capita is 3362.4656\n",
      "Country Cyprus and its GDP per capita is 15378.16704\n",
      "Country Denmark and its GDP per capita is 30860.12808\n",
      "Country El Salvador and its GDP per capita is 2579.115607\n",
      "Country Estonia and its GDP per capita is 6525.541272\n",
      "Country Ethiopia and its GDP per capita is 229.6769525\n",
      "Country Fiji and its GDP per capita is 2242.689259\n",
      "Country Finland and its GDP per capita is 27570.4852\n",
      "Country France and its GDP per capita is 23016.84778\n",
      "Country Georgia and its GDP per capita is 1334.646773\n",
      "Country Ghana and its GDP per capita is 402.6953275\n",
      "Country Grenada and its GDP per capita is 6047.200797\n",
      "Country Guinea and its GDP per capita is 394.1156638\n",
      "Country Haiti and its GDP per capita is 385.5793827\n",
      "Country Honduras and its GDP per capita is 1414.072488\n",
      "Country Hungary and its GDP per capita is 5745.981529\n",
      "Country India and its GDP per capita is 837.7464011\n",
      "Country Indonesia and its GDP per capita is 1206.991065\n",
      "Country Ireland and its GDP per capita is 27715.52837\n",
      "Country Italy and its GDP per capita is 18937.24998\n",
      "Country Japan and its GDP per capita is 39578.07441\n",
      "Country Kenya and its GDP per capita is 478.2194906\n",
      "Country South Korea and its GDP per capita is 16684.21278\n",
      "Country Liberia and its GDP per capita is 279.2204061\n",
      "Country Malaysia and its GDP per capita is 5345.213415\n",
      "Country Mexico and its GDP per capita is 6288.25324\n",
      "Country Morocco and its GDP per capita is 1908.304416\n",
      "Country Nepal and its GDP per capita is 274.8728621\n",
      "Country New Zealand and its GDP per capita is 14646.42094\n",
      "Country Norway and its GDP per capita is 40034.85063\n",
      "Country Pakistan and its GDP per capita is 672.1547506\n",
      "Country Peru and its GDP per capita is 3359.517402\n",
      "Country Qatar and its GDP per capita is 36152.66676\n",
      "Country Russia and its GDP per capita is 3054.727742\n",
      "Country Singapore and its GDP per capita is 33529.83052\n",
      "Country South Africa and its GDP per capita is 3825.093781\n",
      "Country Spain and its GDP per capita is 15428.32098\n",
      "Country Sweden and its GDP per capita is 33630.24604\n",
      "Country Switzerland and its GDP per capita is 39170.41371\n",
      "Country Thailand and its GDP per capita is 2699.123242\n",
      "Country United Arab Emirates and its GDP per capita is 21058.43643\n",
      "Country United Kingdom and its GDP per capita is 28272.40661\n",
      "Country United States and its GDP per capita is 37691.02733\n",
      "Country Uruguay and its GDP per capita is 9581.05659\n",
      "Country Venezuela and its GDP per capita is 5671.912202\n",
      "Country Vietnam and its GDP per capita is 757.4009286\n",
      "Country Zimbabwe and its GDP per capita is 347.7456605\n"
     ]
    }
   ],
   "source": [
    "#Use a for loop to print the required list\n",
    "for i in range(len(countries)):\n",
    "     country = countries[i]\n",
    "     country_gdp_per_capita = gdp_per_capita[i]\n",
    "     print('Country {} and its GDP per capita is {}'.format(country,country_gdp_per_capita))"
   ]
  },
  {
   "cell_type": "markdown",
   "metadata": {},
   "source": [
    "#### 6: Print the following:\n",
    "1. Highest GPD value\n",
    "2. Lowest GDP value\n",
    "3. Mean GDP value\n",
    "4. Standardized GDP value\n",
    "5. Sum of all the GDPs"
   ]
  },
  {
   "cell_type": "code",
   "execution_count": 12,
   "metadata": {},
   "outputs": [
    {
     "name": "stdout",
     "output_type": "stream",
     "text": [
      "40034.85063\n",
      "229.6769525\n",
      "11289.409271639683\n",
      "12743.828910617945\n",
      "711232.7841133\n"
     ]
    }
   ],
   "source": [
    "print(gdp_per_capita.max())    #high gdp val\n",
    "print(gdp_per_capita.min())    #low gdp val\n",
    "print(gdp_per_capita.mean())    #mean gdp val\n",
    "print(gdp_per_capita.std())    #standardize gdp val\n",
    "print(gdp_per_capita.sum())    #sum gdp val"
   ]
  },
  {
   "cell_type": "code",
   "execution_count": null,
   "metadata": {},
   "outputs": [],
   "source": []
  }
 ],
 "metadata": {
  "kernelspec": {
   "display_name": "Python 3",
   "language": "python",
   "name": "python3"
  },
  "language_info": {
   "codemirror_mode": {
    "name": "ipython",
    "version": 3
   },
   "file_extension": ".py",
   "mimetype": "text/x-python",
   "name": "python",
   "nbconvert_exporter": "python",
   "pygments_lexer": "ipython3",
   "version": "3.8.8"
  }
 },
 "nbformat": 4,
 "nbformat_minor": 1
}
